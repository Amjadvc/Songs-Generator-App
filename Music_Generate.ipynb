{
 "cells": [
  {
   "cell_type": "code",
   "execution_count": 1,
   "metadata": {},
   "outputs": [],
   "source": [
    "import os\n",
    "import pickle\n",
    "import numpy as np\n",
    "from music21 import note, chord, corpus, converter, stream, instrument\n",
    "import glob\n",
    "from tensorflow.keras.utils import to_categorical\n",
    "from tqdm.notebook import tqdm\n"
   ]
  },
  {
   "cell_type": "code",
   "execution_count": 2,
   "metadata": {},
   "outputs": [],
   "source": [
    "from tensorflow.keras.callbacks import ModelCheckpoint, EarlyStopping\n",
    "from tensorflow.keras.layers import LSTM, Input, Dropout, Dense, Activation, Embedding, Concatenate, Reshape\n",
    "from tensorflow.keras.layers import Flatten, RepeatVector, Permute, TimeDistributed\n",
    "from tensorflow.keras.layers import Multiply, Lambda, Softmax\n",
    "import tensorflow.keras.backend as K \n",
    "from tensorflow.keras.models import Model\n",
    "from tensorflow.keras.optimizers import RMSprop"
   ]
  },
  {
   "cell_type": "markdown",
   "metadata": {},
   "source": [
    "Git data\n"
   ]
  },
  {
   "cell_type": "code",
   "execution_count": 3,
   "metadata": {},
   "outputs": [
    {
     "data": {
      "application/vnd.jupyter.widget-view+json": {
       "model_id": "18950c86474d4972a01731e5d708715a",
       "version_major": 2,
       "version_minor": 0
      },
      "text/plain": [
       "  0%|          | 0/51 [00:00<?, ?it/s]"
      ]
     },
     "metadata": {},
     "output_type": "display_data"
    }
   ],
   "source": [
    "data_dir = 'C:/Users/VS/Desktop/musicVS/romance/'\n",
    "\n",
    "# list of files\n",
    "midi_list = os.listdir(data_dir)\n",
    "\n",
    "# Load and make list of stream objects\n",
    "original_scores = []\n",
    "for midi in tqdm(midi_list):\n",
    "    score = converter.parse(os.path.join(data_dir,midi))\n",
    "    original_scores.append(score)"
   ]
  },
  {
   "cell_type": "markdown",
   "metadata": {},
   "source": [
    "Merge Notes to Chords"
   ]
  },
  {
   "cell_type": "code",
   "execution_count": 4,
   "metadata": {},
   "outputs": [
    {
     "data": {
      "application/vnd.jupyter.widget-view+json": {
       "model_id": "d2abee5bc0b24debb6abe972989c5cae",
       "version_major": 2,
       "version_minor": 0
      },
      "text/plain": [
       "  0%|          | 0/51 [00:00<?, ?it/s]"
      ]
     },
     "metadata": {},
     "output_type": "display_data"
    }
   ],
   "source": [
    "# Merge notes into chords\n",
    "original_scores = [midi.chordify() for midi in tqdm(original_scores)]"
   ]
  },
  {
   "cell_type": "code",
   "execution_count": 5,
   "metadata": {},
   "outputs": [
    {
     "name": "stdout",
     "output_type": "stream",
     "text": [
      "[[<music21.stream.Part 2644844767840>, <music21.stream.Part 2645165733104>, <music21.stream.Part 2645175700112>, <music21.stream.Part 2645187445136>, <music21.stream.Part 2645200852256>, <music21.stream.Part 2645212204816>, <music21.stream.Part 2645229065696>, <music21.stream.Part 2645231249728>, <music21.stream.Part 2645249221920>, <music21.stream.Part 2645264820640>, <music21.stream.Part 2645281529920>, <music21.stream.Part 2645295403408>, <music21.stream.Part 2645305638864>, <music21.stream.Part 2645325978928>, <music21.stream.Part 2645341680016>, <music21.stream.Part 2645360629936>, <music21.stream.Part 2645373896160>, <music21.stream.Part 2645393279680>, <music21.stream.Part 2645402617456>, <music21.stream.Part 2645416075712>, <music21.stream.Part 2645424415552>, <music21.stream.Part 2645439880496>, <music21.stream.Part 2645459172080>, <music21.stream.Part 2645475655296>, <music21.stream.Part 2645490286544>, <music21.stream.Part 2645513547344>, <music21.stream.Part 2645537893872>, <music21.stream.Part 2645556270416>, <music21.stream.Part 2645571565744>, <music21.stream.Part 2645590109440>, <music21.stream.Part 2645608434464>, <music21.stream.Part 2645633244704>, <music21.stream.Part 2645639250704>, <music21.stream.Part 2645639650656>, <music21.stream.Part 2645591105392>, <music21.stream.Part 2645655711808>, <music21.stream.Part 2645663268384>, <music21.stream.Part 2645663533952>, <music21.stream.Part 2645670790144>, <music21.stream.Part 2645670914464>, <music21.stream.Part 2645682059200>, <music21.stream.Part 2645682221984>, <music21.stream.Part 2645682342352>, <music21.stream.Part 2645694542032>, <music21.stream.Part 2645403489712>, <music21.stream.Part 2643554644128>, <music21.stream.Part 2643567498192>, <music21.stream.Part 2643583535520>, <music21.stream.Part 2643567497472>, <music21.stream.Part 2643602181232>, <music21.stream.Part 2643602254816>]]\n"
     ]
    }
   ],
   "source": [
    "list=[original_scores]\n",
    "original=\"list.pkl\"\n",
    "open_file=open(original,\"wb\")\n",
    "pickle.dump(list,open_file)\n",
    "open_file.close()\n",
    "\n",
    "open_file = open(original, \"rb\")\n",
    "loaded_list = pickle.load(open_file)\n",
    "open_file.close()\n",
    "\n",
    "print(loaded_list)"
   ]
  },
  {
   "cell_type": "markdown",
   "metadata": {},
   "source": [
    "Get Notes and Duration Information"
   ]
  },
  {
   "cell_type": "code",
   "execution_count": 6,
   "metadata": {},
   "outputs": [
    {
     "data": {
      "application/vnd.jupyter.widget-view+json": {
       "model_id": "179a1e0c584c4cdeae9d7a3c050a1f4d",
       "version_major": 2,
       "version_minor": 0
      },
      "text/plain": [
       "0it [00:00, ?it/s]"
      ]
     },
     "metadata": {},
     "output_type": "display_data"
    }
   ],
   "source": [
    "# Define empty lists of lists\n",
    "original_chords = [[] for _ in original_scores]\n",
    "original_durations = [[] for _ in original_scores]\n",
    "original_keys = []\n",
    "\n",
    "# Extract notes, chords, durations, and keys\n",
    "for i, midi in tqdm(enumerate(original_scores)):\n",
    "    original_keys.append(str(midi.analyze('key')))\n",
    "    for element in midi:\n",
    "        if isinstance(element, note.Note):\n",
    "            original_chords[i].append(element.pitch)\n",
    "            original_durations[i].append(element.duration.quarterLength)\n",
    "        elif isinstance(element, chord.Chord):\n",
    "            original_chords[i].append('.'.join(str(n) for n in element.pitches))\n",
    "            original_durations[i].append(element.duration.quarterLength)"
   ]
  },
  {
   "cell_type": "markdown",
   "metadata": {},
   "source": [
    "Reduce Dimensionality"
   ]
  },
  {
   "cell_type": "code",
   "execution_count": 7,
   "metadata": {},
   "outputs": [
    {
     "data": {
      "application/vnd.jupyter.widget-view+json": {
       "model_id": "ccac0d381e014435a85df9e59a56cea8",
       "version_major": 2,
       "version_minor": 0
      },
      "text/plain": [
       "0it [00:00, ?it/s]"
      ]
     },
     "metadata": {},
     "output_type": "display_data"
    },
    {
     "data": {
      "application/vnd.jupyter.widget-view+json": {
       "model_id": "8a0abdabf3554d6ea266771435bd8943",
       "version_major": 2,
       "version_minor": 0
      },
      "text/plain": [
       "0it [00:00, ?it/s]"
      ]
     },
     "metadata": {},
     "output_type": "display_data"
    }
   ],
   "source": [
    "# Create list of chords and durations from songs in C major\n",
    "major_chords = [c for (c, k) in tqdm(zip(original_chords, original_keys)) if (k == 'C major')]\n",
    "major_durations = [c for (c, k) in tqdm(zip(original_durations, original_keys)) if (k == 'C major')]"
   ]
  },
  {
   "cell_type": "markdown",
   "metadata": {},
   "source": [
    "Prepare Duration and Note Mappings"
   ]
  },
  {
   "cell_type": "code",
   "execution_count": 9,
   "metadata": {},
   "outputs": [],
   "source": [
    "def get_distinct(elements):\n",
    "    # Get all pitch names\n",
    "    element_names = sorted(set(elements))\n",
    "    n_elements = len(element_names)\n",
    "    return (element_names, n_elements)\n",
    "\n",
    "def create_lookups(element_names):\n",
    "    # create dictionary to map notes and durations to integers\n",
    "    element_to_int = dict((element, number) for number, element in enumerate(element_names))\n",
    "    int_to_element = dict((number, element) for number, element in enumerate(element_names))\n",
    "\n",
    "    return (element_to_int, int_to_element)"
   ]
  },
  {
   "cell_type": "code",
   "execution_count": 10,
   "metadata": {},
   "outputs": [
    {
     "ename": "FileExistsError",
     "evalue": "[WinError 183] Cannot create a file when that file already exists: 'parsed_data'",
     "output_type": "error",
     "traceback": [
      "\u001b[1;31m---------------------------------------------------------------------------\u001b[0m",
      "\u001b[1;31mFileExistsError\u001b[0m                           Traceback (most recent call last)",
      "\u001b[1;32mc:\\Users\\VS\\Desktop\\musicVS\\Music_Generate.ipynb Cell 14'\u001b[0m in \u001b[0;36m<cell line: 2>\u001b[1;34m()\u001b[0m\n\u001b[0;32m      <a href='vscode-notebook-cell:/c%3A/Users/VS/Desktop/musicVS/Music_Generate.ipynb#ch0000013?line=0'>1</a>\u001b[0m store_folder \u001b[39m=\u001b[39m \u001b[39m'\u001b[39m\u001b[39mparsed_data\u001b[39m\u001b[39m'\u001b[39m\n\u001b[1;32m----> <a href='vscode-notebook-cell:/c%3A/Users/VS/Desktop/musicVS/Music_Generate.ipynb#ch0000013?line=1'>2</a>\u001b[0m os\u001b[39m.\u001b[39;49mmkdir(store_folder)\n",
      "\u001b[1;31mFileExistsError\u001b[0m: [WinError 183] Cannot create a file when that file already exists: 'parsed_data'"
     ]
    }
   ],
   "source": [
    "store_folder = 'parsed_data'\n",
    "os.mkdir(store_folder)"
   ]
  },
  {
   "cell_type": "code",
   "execution_count": 11,
   "metadata": {},
   "outputs": [],
   "source": [
    "# get the distinct sets of notes and durations\n",
    "note_names, n_notes = get_distinct([n for chord in major_chords for n in chord])\n",
    "duration_names, n_durations = get_distinct([d for dur in major_durations for d in dur])\n",
    "distincts = [note_names, n_notes, duration_names, n_durations]\n",
    "\n",
    "with open(os.path.join(store_folder, 'distincts'), 'wb') as f:\n",
    "    pickle.dump(distincts, f)"
   ]
  },
  {
   "cell_type": "code",
   "execution_count": 12,
   "metadata": {},
   "outputs": [],
   "source": [
    "# make the lookup dictionaries for notes and dictionaries and save\n",
    "note_to_int, int_to_note = create_lookups(note_names)\n",
    "duration_to_int, int_to_duration = create_lookups(duration_names)\n",
    "lookups = [note_to_int, int_to_note, duration_to_int, int_to_duration]\n",
    "\n",
    "with open(os.path.join(store_folder, 'lookups'), 'wb') as f:\n",
    "    pickle.dump(lookups, f)"
   ]
  },
  {
   "cell_type": "code",
   "execution_count": 13,
   "metadata": {},
   "outputs": [
    {
     "name": "stdout",
     "output_type": "stream",
     "text": [
      "Unique Notes=3950 and Duration values=36\n"
     ]
    }
   ],
   "source": [
    "print(\"Unique Notes={} and Duration values={}\".format(n_notes,n_durations))"
   ]
  },
  {
   "cell_type": "markdown",
   "metadata": {},
   "source": [
    "Prepare Sequences"
   ]
  },
  {
   "cell_type": "code",
   "execution_count": 14,
   "metadata": {},
   "outputs": [],
   "source": [
    "# Set sequence length\n",
    "sequence_length = 32\n",
    "\n",
    "# Define empty array for train data\n",
    "train_chords = []\n",
    "train_durations = []\n",
    "target_chords = []\n",
    "target_durations = []\n",
    "\n",
    "# Construct train and target sequences for chords and durations\n",
    "for s in range(len(major_chords)):\n",
    "    chord_list = [note_to_int[c] for c in major_chords[s]]\n",
    "    duration_list = [duration_to_int[d] for d in major_durations[s]]\n",
    "    for i in range(len(chord_list) - sequence_length):\n",
    "        train_chords.append(chord_list[i:i+sequence_length])\n",
    "        train_durations.append(duration_list[i:i+sequence_length])\n",
    "        target_chords.append(chord_list[i+1])\n",
    "        target_durations.append(duration_list[i+1])"
   ]
  },
  {
   "cell_type": "code",
   "execution_count": 15,
   "metadata": {},
   "outputs": [],
   "source": [
    "train_chords = np.array(train_chords)\n",
    "train_durations = np.array(train_durations)\n",
    "target_chords = np.array(target_chords)\n",
    "target_durations = np.array(target_durations)"
   ]
  },
  {
   "cell_type": "markdown",
   "metadata": {},
   "source": [
    "Prepare Model"
   ]
  },
  {
   "cell_type": "code",
   "execution_count": 16,
   "metadata": {},
   "outputs": [],
   "source": [
    "def create_network(n_notes, n_durations, embed_size = 100, rnn_units = 256):\n",
    "    \"\"\" create the structure of the neural network \"\"\"\n",
    "\n",
    "    notes_in = Input(shape = (None,))\n",
    "    durations_in = Input(shape = (None,))\n",
    "\n",
    "    x1 = Embedding(n_notes, embed_size)(notes_in)\n",
    "    x2 = Embedding(n_durations, embed_size)(durations_in) \n",
    "\n",
    "    x = Concatenate()([x1,x2])\n",
    "\n",
    "    x = LSTM(rnn_units, return_sequences=True)(x)\n",
    "\n",
    "    x = LSTM(rnn_units, return_sequences=True)(x)\n",
    "\n",
    "    # attention\n",
    "    e = Dense(1, activation='tanh')(x)\n",
    "    e = Reshape([-1])(e)\n",
    "    alpha = Activation('softmax')(e)\n",
    "\n",
    "    alpha_repeated = Permute([2, 1])(RepeatVector(rnn_units)(alpha))\n",
    "\n",
    "    c = Multiply()([x, alpha_repeated])\n",
    "    c = Lambda(lambda xin: K.sum(xin, axis=1), output_shape=(rnn_units,))(c)\n",
    "    \n",
    "                                    \n",
    "    notes_out = Dense(n_notes, activation = 'softmax', name = 'pitch')(c)\n",
    "    durations_out = Dense(n_durations, activation = 'softmax', name = 'duration')(c)\n",
    "   \n",
    "    model = Model([notes_in, durations_in], [notes_out, durations_out])\n",
    "    model.compile(loss=['sparse_categorical_crossentropy', \n",
    "                        'sparse_categorical_crossentropy'], optimizer=RMSprop(lr = 0.001))\n",
    "\n",
    "    return model"
   ]
  },
  {
   "cell_type": "code",
   "execution_count": 17,
   "metadata": {},
   "outputs": [],
   "source": [
    "embed_size = 128\n",
    "rnn_units = 128"
   ]
  },
  {
   "cell_type": "code",
   "execution_count": 18,
   "metadata": {},
   "outputs": [
    {
     "name": "stderr",
     "output_type": "stream",
     "text": [
      "c:\\Users\\VS\\AppData\\Local\\Programs\\Python\\Python38\\lib\\site-packages\\tensorflow\\python\\keras\\optimizer_v2\\optimizer_v2.py:374: UserWarning: The `lr` argument is deprecated, use `learning_rate` instead.\n",
      "  warnings.warn(\n"
     ]
    }
   ],
   "source": [
    "model = create_network(n_notes, n_durations, embed_size, rnn_units)"
   ]
  },
  {
   "cell_type": "code",
   "execution_count": 19,
   "metadata": {},
   "outputs": [
    {
     "name": "stdout",
     "output_type": "stream",
     "text": [
      "Model: \"model\"\n",
      "__________________________________________________________________________________________________\n",
      "Layer (type)                    Output Shape         Param #     Connected to                     \n",
      "==================================================================================================\n",
      "input_1 (InputLayer)            [(None, None)]       0                                            \n",
      "__________________________________________________________________________________________________\n",
      "input_2 (InputLayer)            [(None, None)]       0                                            \n",
      "__________________________________________________________________________________________________\n",
      "embedding (Embedding)           (None, None, 128)    505600      input_1[0][0]                    \n",
      "__________________________________________________________________________________________________\n",
      "embedding_1 (Embedding)         (None, None, 128)    4608        input_2[0][0]                    \n",
      "__________________________________________________________________________________________________\n",
      "concatenate (Concatenate)       (None, None, 256)    0           embedding[0][0]                  \n",
      "                                                                 embedding_1[0][0]                \n",
      "__________________________________________________________________________________________________\n",
      "lstm (LSTM)                     (None, None, 128)    197120      concatenate[0][0]                \n",
      "__________________________________________________________________________________________________\n",
      "lstm_1 (LSTM)                   (None, None, 128)    131584      lstm[0][0]                       \n",
      "__________________________________________________________________________________________________\n",
      "dense (Dense)                   (None, None, 1)      129         lstm_1[0][0]                     \n",
      "__________________________________________________________________________________________________\n",
      "reshape (Reshape)               (None, None)         0           dense[0][0]                      \n",
      "__________________________________________________________________________________________________\n",
      "activation (Activation)         (None, None)         0           reshape[0][0]                    \n",
      "__________________________________________________________________________________________________\n",
      "repeat_vector (RepeatVector)    (None, 128, None)    0           activation[0][0]                 \n",
      "__________________________________________________________________________________________________\n",
      "permute (Permute)               (None, None, 128)    0           repeat_vector[0][0]              \n",
      "__________________________________________________________________________________________________\n",
      "multiply (Multiply)             (None, None, 128)    0           lstm_1[0][0]                     \n",
      "                                                                 permute[0][0]                    \n",
      "__________________________________________________________________________________________________\n",
      "lambda (Lambda)                 (None, 128)          0           multiply[0][0]                   \n",
      "__________________________________________________________________________________________________\n",
      "pitch (Dense)                   (None, 3950)         509550      lambda[0][0]                     \n",
      "__________________________________________________________________________________________________\n",
      "duration (Dense)                (None, 36)           4644        lambda[0][0]                     \n",
      "==================================================================================================\n",
      "Total params: 1,353,235\n",
      "Trainable params: 1,353,235\n",
      "Non-trainable params: 0\n",
      "__________________________________________________________________________________________________\n"
     ]
    }
   ],
   "source": [
    "model.summary()"
   ]
  },
  {
   "cell_type": "markdown",
   "metadata": {},
   "source": [
    "Train the Model"
   ]
  },
  {
   "cell_type": "code",
   "execution_count": 20,
   "metadata": {},
   "outputs": [
    {
     "ename": "FileExistsError",
     "evalue": "[WinError 183] Cannot create a file when that file already exists: 'outputs'",
     "output_type": "error",
     "traceback": [
      "\u001b[1;31m---------------------------------------------------------------------------\u001b[0m",
      "\u001b[1;31mFileExistsError\u001b[0m                           Traceback (most recent call last)",
      "\u001b[1;32mc:\\Users\\VS\\Desktop\\musicVS\\Music_Generate.ipynb Cell 27'\u001b[0m in \u001b[0;36m<cell line: 1>\u001b[1;34m()\u001b[0m\n\u001b[1;32m----> <a href='vscode-notebook-cell:/c%3A/Users/VS/Desktop/musicVS/Music_Generate.ipynb#ch0000026?line=0'>1</a>\u001b[0m os\u001b[39m.\u001b[39;49mmkdir(\u001b[39m'\u001b[39;49m\u001b[39moutputs\u001b[39;49m\u001b[39m'\u001b[39;49m)\n\u001b[0;32m      <a href='vscode-notebook-cell:/c%3A/Users/VS/Desktop/musicVS/Music_Generate.ipynb#ch0000026?line=1'>2</a>\u001b[0m os\u001b[39m.\u001b[39mmkdir(\u001b[39m'\u001b[39m\u001b[39moutputs/output\u001b[39m\u001b[39m'\u001b[39m)\n\u001b[0;32m      <a href='vscode-notebook-cell:/c%3A/Users/VS/Desktop/musicVS/Music_Generate.ipynb#ch0000026?line=2'>3</a>\u001b[0m os\u001b[39m.\u001b[39mmkdir(\u001b[39m'\u001b[39m\u001b[39moutputs/weights\u001b[39m\u001b[39m'\u001b[39m)\n",
      "\u001b[1;31mFileExistsError\u001b[0m: [WinError 183] Cannot create a file when that file already exists: 'outputs'"
     ]
    }
   ],
   "source": [
    "os.mkdir('outputs')\n",
    "os.mkdir('outputs/output')\n",
    "os.mkdir('outputs/weights')"
   ]
  },
  {
   "cell_type": "code",
   "execution_count": 21,
   "metadata": {},
   "outputs": [],
   "source": [
    "output_folder = 'outputs'\n",
    "weights_folder = os.path.join(output_folder, 'weights')\n",
    "\n",
    "\n",
    "checkpoint = ModelCheckpoint(\n",
    "    os.path.join(weights_folder, \"weights.h5\"),\n",
    "    monitor='loss',\n",
    "    verbose=0,\n",
    "    save_best_only=True,\n",
    "    mode='min'\n",
    ")\n",
    "\n",
    "epoch_checkpoint = ModelCheckpoint(\n",
    "    os.path.join(weights_folder, \"weights-{epoch:02d}-{loss:.4f}.h5\"),\n",
    "    monitor='loss',\n",
    "    verbose=0,\n",
    "    save_best_only=True,\n",
    "    mode='min'\n",
    ")\n",
    "\n",
    "early_stopping = EarlyStopping(\n",
    "    monitor='loss'\n",
    "    , restore_best_weights=True\n",
    "    , patience = 5\n",
    ")\n",
    "\n",
    "\n",
    "callbacks_list = [\n",
    "    checkpoint\n",
    "    , epoch_checkpoint\n",
    "    , early_stopping\n",
    " ]\n",
    "\n",
    "model.save_weights(os.path.join(weights_folder, \"weights.h5\"))"
   ]
  },
  {
   "cell_type": "code",
   "execution_count": 33,
   "metadata": {},
   "outputs": [
    {
     "name": "stdout",
     "output_type": "stream",
     "text": [
      "Epoch 1/80\n",
      "70/70 [==============================] - 29s 281ms/step - loss: 10.0694 - pitch_loss: 8.1698 - duration_loss: 1.8996\n"
     ]
    },
    {
     "name": "stderr",
     "output_type": "stream",
     "text": [
      "c:\\Users\\VS\\AppData\\Local\\Programs\\Python\\Python38\\lib\\site-packages\\tensorflow\\python\\keras\\utils\\generic_utils.py:494: CustomMaskWarning: Custom mask layers require a config and must override get_config. When loading, the custom mask layer must be passed to the custom_objects argument.\n",
      "  warnings.warn('Custom mask layers require a config and must override '\n"
     ]
    },
    {
     "name": "stdout",
     "output_type": "stream",
     "text": [
      "Epoch 2/80\n",
      "70/70 [==============================] - 19s 273ms/step - loss: 9.5002 - pitch_loss: 7.8324 - duration_loss: 1.6679\n",
      "Epoch 3/80\n",
      "70/70 [==============================] - 19s 270ms/step - loss: 9.1289 - pitch_loss: 7.6115 - duration_loss: 1.5173\n",
      "Epoch 4/80\n",
      "70/70 [==============================] - 19s 274ms/step - loss: 8.7443 - pitch_loss: 7.4327 - duration_loss: 1.3116\n",
      "Epoch 5/80\n",
      "70/70 [==============================] - 19s 277ms/step - loss: 8.4558 - pitch_loss: 7.2941 - duration_loss: 1.1617\n",
      "Epoch 6/80\n",
      "70/70 [==============================] - 19s 277ms/step - loss: 8.1436 - pitch_loss: 7.1818 - duration_loss: 0.9618\n",
      "Epoch 7/80\n",
      "70/70 [==============================] - 20s 288ms/step - loss: 7.8271 - pitch_loss: 7.0995 - duration_loss: 0.7275\n",
      "Epoch 8/80\n",
      "70/70 [==============================] - 19s 278ms/step - loss: 7.5769 - pitch_loss: 6.9997 - duration_loss: 0.5773\n",
      "Epoch 9/80\n",
      "70/70 [==============================] - 20s 281ms/step - loss: 7.3925 - pitch_loss: 6.8924 - duration_loss: 0.5001\n",
      "Epoch 10/80\n",
      "70/70 [==============================] - 20s 292ms/step - loss: 7.2499 - pitch_loss: 6.7999 - duration_loss: 0.4500\n",
      "Epoch 11/80\n",
      "70/70 [==============================] - 20s 281ms/step - loss: 7.1001 - pitch_loss: 6.7088 - duration_loss: 0.3912\n",
      "Epoch 12/80\n",
      "70/70 [==============================] - 20s 285ms/step - loss: 6.9764 - pitch_loss: 6.6194 - duration_loss: 0.3570\n",
      "Epoch 13/80\n",
      "70/70 [==============================] - 20s 283ms/step - loss: 6.8557 - pitch_loss: 6.5192 - duration_loss: 0.3364\n",
      "Epoch 14/80\n",
      "70/70 [==============================] - 20s 281ms/step - loss: 6.7384 - pitch_loss: 6.4352 - duration_loss: 0.3032\n",
      "Epoch 15/80\n",
      "70/70 [==============================] - 20s 285ms/step - loss: 6.6597 - pitch_loss: 6.3637 - duration_loss: 0.2960\n",
      "Epoch 16/80\n",
      "70/70 [==============================] - 20s 288ms/step - loss: 6.5622 - pitch_loss: 6.2857 - duration_loss: 0.2764\n",
      "Epoch 17/80\n",
      "70/70 [==============================] - 20s 284ms/step - loss: 6.4680 - pitch_loss: 6.2068 - duration_loss: 0.2612\n",
      "Epoch 18/80\n",
      "70/70 [==============================] - 20s 289ms/step - loss: 6.3769 - pitch_loss: 6.1311 - duration_loss: 0.2458\n",
      "Epoch 19/80\n",
      "70/70 [==============================] - 20s 288ms/step - loss: 6.2572 - pitch_loss: 6.0331 - duration_loss: 0.2242\n",
      "Epoch 20/80\n",
      "70/70 [==============================] - 20s 286ms/step - loss: 6.1738 - pitch_loss: 5.9536 - duration_loss: 0.2201\n",
      "Epoch 21/80\n",
      "70/70 [==============================] - 20s 282ms/step - loss: 6.0915 - pitch_loss: 5.8779 - duration_loss: 0.2135\n",
      "Epoch 22/80\n",
      "70/70 [==============================] - 21s 303ms/step - loss: 6.0346 - pitch_loss: 5.8144 - duration_loss: 0.2202\n",
      "Epoch 23/80\n",
      "70/70 [==============================] - 20s 288ms/step - loss: 5.9177 - pitch_loss: 5.7282 - duration_loss: 0.1895\n",
      "Epoch 24/80\n",
      "70/70 [==============================] - 21s 294ms/step - loss: 5.8029 - pitch_loss: 5.6322 - duration_loss: 0.1707\n",
      "Epoch 25/80\n",
      "70/70 [==============================] - 20s 293ms/step - loss: 5.7562 - pitch_loss: 5.5792 - duration_loss: 0.1770\n",
      "Epoch 26/80\n",
      "70/70 [==============================] - 20s 287ms/step - loss: 5.6548 - pitch_loss: 5.4878 - duration_loss: 0.1670\n",
      "Epoch 27/80\n",
      "70/70 [==============================] - 20s 291ms/step - loss: 5.5614 - pitch_loss: 5.4076 - duration_loss: 0.1538\n",
      "Epoch 28/80\n",
      "70/70 [==============================] - 20s 287ms/step - loss: 5.4853 - pitch_loss: 5.3367 - duration_loss: 0.1486\n",
      "Epoch 29/80\n",
      "70/70 [==============================] - 20s 287ms/step - loss: 5.3854 - pitch_loss: 5.2511 - duration_loss: 0.1343\n",
      "Epoch 30/80\n",
      "70/70 [==============================] - 20s 285ms/step - loss: 5.3026 - pitch_loss: 5.1698 - duration_loss: 0.1328\n",
      "Epoch 31/80\n",
      "70/70 [==============================] - 20s 288ms/step - loss: 5.2245 - pitch_loss: 5.0926 - duration_loss: 0.1318\n",
      "Epoch 32/80\n",
      "70/70 [==============================] - 20s 287ms/step - loss: 5.1190 - pitch_loss: 4.9932 - duration_loss: 0.1257\n",
      "Epoch 33/80\n",
      "70/70 [==============================] - 20s 288ms/step - loss: 5.0283 - pitch_loss: 4.9114 - duration_loss: 0.1168\n",
      "Epoch 34/80\n",
      "70/70 [==============================] - 20s 284ms/step - loss: 4.9443 - pitch_loss: 4.8277 - duration_loss: 0.1166\n",
      "Epoch 35/80\n",
      "70/70 [==============================] - 20s 285ms/step - loss: 4.8487 - pitch_loss: 4.7336 - duration_loss: 0.1151\n",
      "Epoch 36/80\n",
      "70/70 [==============================] - 20s 284ms/step - loss: 4.7569 - pitch_loss: 4.6510 - duration_loss: 0.1059\n",
      "Epoch 37/80\n",
      "70/70 [==============================] - 20s 289ms/step - loss: 4.6616 - pitch_loss: 4.5581 - duration_loss: 0.1035\n",
      "Epoch 38/80\n",
      "70/70 [==============================] - 20s 286ms/step - loss: 4.5472 - pitch_loss: 4.4494 - duration_loss: 0.0977\n",
      "Epoch 39/80\n",
      "70/70 [==============================] - 20s 290ms/step - loss: 4.4503 - pitch_loss: 4.3581 - duration_loss: 0.0922\n",
      "Epoch 40/80\n",
      "70/70 [==============================] - 20s 288ms/step - loss: 4.3830 - pitch_loss: 4.2919 - duration_loss: 0.0912\n",
      "Epoch 41/80\n",
      "70/70 [==============================] - 20s 287ms/step - loss: 4.3105 - pitch_loss: 4.2200 - duration_loss: 0.0905\n",
      "Epoch 42/80\n",
      "70/70 [==============================] - 20s 289ms/step - loss: 4.2499 - pitch_loss: 4.1602 - duration_loss: 0.0897\n",
      "Epoch 43/80\n",
      "70/70 [==============================] - 20s 288ms/step - loss: 4.1733 - pitch_loss: 4.0905 - duration_loss: 0.0828\n",
      "Epoch 44/80\n",
      "70/70 [==============================] - 20s 290ms/step - loss: 4.1027 - pitch_loss: 4.0222 - duration_loss: 0.0805\n",
      "Epoch 45/80\n",
      "70/70 [==============================] - 20s 287ms/step - loss: 4.0117 - pitch_loss: 3.9345 - duration_loss: 0.0772\n",
      "Epoch 46/80\n",
      "70/70 [==============================] - 20s 287ms/step - loss: 3.8950 - pitch_loss: 3.8134 - duration_loss: 0.0816\n",
      "Epoch 47/80\n",
      "70/70 [==============================] - 20s 289ms/step - loss: 3.8055 - pitch_loss: 3.7331 - duration_loss: 0.0725\n",
      "Epoch 48/80\n",
      "70/70 [==============================] - 20s 290ms/step - loss: 3.7431 - pitch_loss: 3.6693 - duration_loss: 0.0739\n",
      "Epoch 49/80\n",
      "70/70 [==============================] - 20s 284ms/step - loss: 3.6743 - pitch_loss: 3.6051 - duration_loss: 0.0692\n",
      "Epoch 50/80\n",
      "70/70 [==============================] - 20s 289ms/step - loss: 3.5841 - pitch_loss: 3.5200 - duration_loss: 0.0641\n",
      "Epoch 51/80\n",
      "70/70 [==============================] - 20s 289ms/step - loss: 3.5229 - pitch_loss: 3.4587 - duration_loss: 0.0642\n",
      "Epoch 52/80\n",
      "70/70 [==============================] - 20s 289ms/step - loss: 3.4676 - pitch_loss: 3.3928 - duration_loss: 0.0748\n",
      "Epoch 53/80\n",
      "70/70 [==============================] - 20s 289ms/step - loss: 3.3879 - pitch_loss: 3.3235 - duration_loss: 0.0644\n",
      "Epoch 54/80\n",
      "70/70 [==============================] - 21s 295ms/step - loss: 3.2980 - pitch_loss: 3.2402 - duration_loss: 0.0578\n",
      "Epoch 55/80\n",
      "70/70 [==============================] - 20s 285ms/step - loss: 3.2372 - pitch_loss: 3.1778 - duration_loss: 0.0593\n",
      "Epoch 56/80\n",
      "70/70 [==============================] - 20s 285ms/step - loss: 3.1488 - pitch_loss: 3.0911 - duration_loss: 0.0578\n",
      "Epoch 57/80\n",
      "70/70 [==============================] - 20s 287ms/step - loss: 3.0663 - pitch_loss: 3.0127 - duration_loss: 0.0536\n",
      "Epoch 58/80\n",
      "70/70 [==============================] - 20s 288ms/step - loss: 2.9754 - pitch_loss: 2.9243 - duration_loss: 0.0511\n",
      "Epoch 59/80\n",
      "70/70 [==============================] - 20s 289ms/step - loss: 2.9008 - pitch_loss: 2.8473 - duration_loss: 0.0536\n",
      "Epoch 60/80\n",
      "70/70 [==============================] - 20s 287ms/step - loss: 2.8239 - pitch_loss: 2.7746 - duration_loss: 0.0493\n",
      "Epoch 61/80\n",
      "70/70 [==============================] - 20s 290ms/step - loss: 2.7557 - pitch_loss: 2.7039 - duration_loss: 0.0517\n",
      "Epoch 62/80\n",
      "70/70 [==============================] - 20s 286ms/step - loss: 2.6703 - pitch_loss: 2.6250 - duration_loss: 0.0453\n",
      "Epoch 63/80\n",
      "70/70 [==============================] - 20s 283ms/step - loss: 2.5841 - pitch_loss: 2.5394 - duration_loss: 0.0447\n",
      "Epoch 64/80\n",
      "70/70 [==============================] - 20s 290ms/step - loss: 2.4818 - pitch_loss: 2.4362 - duration_loss: 0.0456\n",
      "Epoch 65/80\n",
      "70/70 [==============================] - 20s 289ms/step - loss: 2.3892 - pitch_loss: 2.3458 - duration_loss: 0.0435\n",
      "Epoch 66/80\n",
      "70/70 [==============================] - 20s 289ms/step - loss: 2.3195 - pitch_loss: 2.2748 - duration_loss: 0.0446\n",
      "Epoch 67/80\n",
      "70/70 [==============================] - 20s 290ms/step - loss: 2.2882 - pitch_loss: 2.2434 - duration_loss: 0.0448\n",
      "Epoch 68/80\n",
      "70/70 [==============================] - 20s 288ms/step - loss: 2.1971 - pitch_loss: 2.1579 - duration_loss: 0.0392\n",
      "Epoch 69/80\n",
      "70/70 [==============================] - 20s 291ms/step - loss: 2.1411 - pitch_loss: 2.0989 - duration_loss: 0.0422\n",
      "Epoch 70/80\n",
      "70/70 [==============================] - 20s 288ms/step - loss: 2.0768 - pitch_loss: 2.0401 - duration_loss: 0.0367\n",
      "Epoch 71/80\n",
      "70/70 [==============================] - 20s 287ms/step - loss: 2.0216 - pitch_loss: 1.9838 - duration_loss: 0.0378\n",
      "Epoch 72/80\n",
      "70/70 [==============================] - 20s 287ms/step - loss: 1.9642 - pitch_loss: 1.9268 - duration_loss: 0.0374\n",
      "Epoch 73/80\n",
      "70/70 [==============================] - 20s 285ms/step - loss: 1.8861 - pitch_loss: 1.8492 - duration_loss: 0.0369\n",
      "Epoch 74/80\n",
      "70/70 [==============================] - 20s 287ms/step - loss: 1.8444 - pitch_loss: 1.8070 - duration_loss: 0.0374\n",
      "Epoch 75/80\n",
      "70/70 [==============================] - 20s 287ms/step - loss: 1.7811 - pitch_loss: 1.7444 - duration_loss: 0.0367\n",
      "Epoch 76/80\n",
      "70/70 [==============================] - 20s 287ms/step - loss: 1.7178 - pitch_loss: 1.6828 - duration_loss: 0.0350\n",
      "Epoch 77/80\n",
      "70/70 [==============================] - 20s 287ms/step - loss: 1.6655 - pitch_loss: 1.6329 - duration_loss: 0.0326\n",
      "Epoch 78/80\n",
      "70/70 [==============================] - 20s 289ms/step - loss: 1.6045 - pitch_loss: 1.5722 - duration_loss: 0.0323\n",
      "Epoch 79/80\n",
      "70/70 [==============================] - 20s 286ms/step - loss: 1.5387 - pitch_loss: 1.5067 - duration_loss: 0.0320\n",
      "Epoch 80/80\n",
      "70/70 [==============================] - 20s 288ms/step - loss: 1.4860 - pitch_loss: 1.4562 - duration_loss: 0.0298\n"
     ]
    }
   ],
   "source": [
    "history = model.fit([train_chords, train_durations], \n",
    "                    [target_chords, target_durations]\n",
    "                    , epochs=80, batch_size=128\n",
    "                    , callbacks=callbacks_list\n",
    "                    , shuffle=True\n",
    "                  )"
   ]
  },
  {
   "cell_type": "code",
   "execution_count": null,
   "metadata": {},
   "outputs": [],
   "source": []
  },
  {
   "cell_type": "code",
   "execution_count": 34,
   "metadata": {},
   "outputs": [],
   "source": [
    "from matplotlib import pyplot as plt"
   ]
  },
  {
   "cell_type": "code",
   "execution_count": 35,
   "metadata": {},
   "outputs": [
    {
     "data": {
      "image/png": "[encoded data removed]",
      "text/plain": [
       "<Figure size 432x288 with 1 Axes>"
      ]
     },
     "metadata": {
      "image/png": {
       "height": 248,
       "width": 362
      },
      "needs_background": "light"
     },
     "output_type": "display_data"
    }
   ],
   "source": [
    "# get plots\n",
    "plt.plot(history.history['pitch_loss'])\n",
    "plt.plot(history.history['duration_loss'])\n",
    "plt.show()"
   ]
  },
  {
   "cell_type": "markdown",
   "metadata": {},
   "source": [
    "Generate Music"
   ]
  },
  {
   "cell_type": "code",
   "execution_count": 22,
   "metadata": {},
   "outputs": [],
   "source": [
    "def sample_with_temp(preds, temperature):\n",
    "\n",
    "    if temperature == 0:\n",
    "        return np.argmax(preds)\n",
    "    else:\n",
    "        preds = np.log(preds) / temperature\n",
    "        exp_preds = np.exp(preds)\n",
    "        preds = exp_preds / np.sum(exp_preds)\n",
    "        return np.random.choice(len(preds), p=preds)"
   ]
  },
  {
   "cell_type": "code",
   "execution_count": 23,
   "metadata": {},
   "outputs": [],
   "source": [
    "# chord and duration sequences\n",
    "initial_chords = np.expand_dims(train_chords[0,:].copy(), 0)\n",
    "initial_durations = np.expand_dims(train_durations[0,:].copy(), 0)"
   ]
  },
  {
   "cell_type": "code",
   "execution_count": 24,
   "metadata": {},
   "outputs": [
    {
     "data": {
      "text/plain": [
       "array([[3881, 1328, 1347, 3937, 3937, 2232, 2155, 2153, 2154, 2154, 1319,\n",
       "        3904, 1319, 1319, 1315, 1315, 1315, 3904, 3904, 3918, 3918, 2849,\n",
       "        2850, 2795, 2758, 2753, 2753, 2717, 2806, 2805, 2811, 2233]])"
      ]
     },
     "execution_count": 24,
     "metadata": {},
     "output_type": "execute_result"
    }
   ],
   "source": [
    "initial_chords"
   ]
  },
  {
   "cell_type": "code",
   "execution_count": 25,
   "metadata": {},
   "outputs": [
    {
     "data": {
      "text/plain": [
       "array([[ 8,  8,  2,  5,  0,  5,  0,  3,  0,  2, 11,  3,  4,  1,  0,  2,\n",
       "         0,  3,  0,  5,  0,  2,  1,  2,  3,  1, 24,  5,  0,  1,  1,  0]])"
      ]
     },
     "execution_count": 25,
     "metadata": {},
     "output_type": "execute_result"
    }
   ],
   "source": [
    "initial_durations"
   ]
  },
  {
   "cell_type": "code",
   "execution_count": 26,
   "metadata": {},
   "outputs": [],
   "source": [
    "# Function to predict chords and durations\n",
    "def predict_chords(chord_sequence, duration_sequence,model,temperature=1.0):\n",
    "    predicted_chords, predicted_durations = model.predict([chord_sequence, duration_sequence])\n",
    "    return sample_with_temp(predicted_chords[0],temperature), sample_with_temp(predicted_durations[0],temperature)"
   ]
  },
  {
   "cell_type": "code",
   "execution_count": 27,
   "metadata": {},
   "outputs": [],
   "source": [
    "# Define empty lists for generated chords and durations\n",
    "new_chords, new_durations = [], []\n",
    "\n",
    "# Generate chords and durations using 50 rounds of prediction\n",
    "for j in range(50):\n",
    "    new_chord, new_duration = predict_chords(initial_chords, \n",
    "                                             initial_durations,\n",
    "                                             model,\n",
    "                                             temperature=0.8)\n",
    "    new_chords.append(new_chord)\n",
    "    new_durations.append(new_duration)\n",
    "    initial_chords[0][:-1] = initial_chords[0][1:]\n",
    "    initial_chords[0][-1] = new_chord\n",
    "    initial_durations[0][:-1] = initial_durations[0][1:]\n",
    "    initial_durations[0][-1] = new_duration"
   ]
  },
  {
   "cell_type": "code",
   "execution_count": 28,
   "metadata": {},
   "outputs": [
    {
     "data": {
      "text/plain": [
       "'lstm_50epoch9.mid'"
      ]
     },
     "execution_count": 28,
     "metadata": {},
     "output_type": "execute_result"
    }
   ],
   "source": [
    "# Create stream object and add guitar as instrument\n",
    "generated_stream = stream.Stream()\n",
    "generated_stream.append(instrument.Piano())\n",
    "\n",
    "# Add notes and durations to stream\n",
    "for j in range(len(new_chords)):\n",
    "    try:\n",
    "        generated_stream.append(note.Note(int_to_note[new_chords[j]].replace('.', ' '), \n",
    "                                          quarterType = int_to_duration[new_durations[j]]))\n",
    "    except:\n",
    "        generated_stream.append(chord.Chord(int_to_note[new_chords[j]].replace('.', ' '), \n",
    "                                            quarterType = int_to_duration[new_durations[j]]))\n",
    "\n",
    "# Export as MIDI file\n",
    "generated_stream.write('midi', fp='lstm_50epoch9.mid')"
   ]
  },
  {
   "cell_type": "code",
   "execution_count": 29,
   "metadata": {},
   "outputs": [
    {
     "name": "stdout",
     "output_type": "stream",
     "text": [
      "2.5.0\n"
     ]
    }
   ],
   "source": [
    "import tensorflow as tf\n",
    "print(tf.version.VERSION)"
   ]
  },
  {
   "cell_type": "code",
   "execution_count": 30,
   "metadata": {},
   "outputs": [
    {
     "ename": "AttributeError",
     "evalue": "module 'tensorflow.compat.v2.__internal__' has no attribute 'register_clear_session_function'",
     "output_type": "error",
     "traceback": [
      "\u001b[1;31m---------------------------------------------------------------------------\u001b[0m",
      "\u001b[1;31mAttributeError\u001b[0m                            Traceback (most recent call last)",
      "\u001b[1;32mc:\\Users\\VS\\Desktop\\musicVS\\Music_Generate.ipynb Cell 42'\u001b[0m in \u001b[0;36m<cell line: 1>\u001b[1;34m()\u001b[0m\n\u001b[1;32m----> <a href='vscode-notebook-cell:/c%3A/Users/VS/Desktop/musicVS/Music_Generate.ipynb#ch0000041?line=0'>1</a>\u001b[0m \u001b[39mimport\u001b[39;00m \u001b[39mkeras\u001b[39;00m\n\u001b[0;32m      <a href='vscode-notebook-cell:/c%3A/Users/VS/Desktop/musicVS/Music_Generate.ipynb#ch0000041?line=1'>2</a>\u001b[0m \u001b[39mprint\u001b[39m(keras\u001b[39m.\u001b[39mversion)\n",
      "File \u001b[1;32mc:\\Users\\VS\\AppData\\Local\\Programs\\Python\\Python38\\lib\\site-packages\\keras\\__init__.py:25\u001b[0m, in \u001b[0;36m<module>\u001b[1;34m\u001b[0m\n\u001b[0;32m     22\u001b[0m \u001b[39mfrom\u001b[39;00m \u001b[39mkeras\u001b[39;00m \u001b[39mimport\u001b[39;00m distribute\n\u001b[0;32m     24\u001b[0m \u001b[39m# See b/110718070#comment18 for more details about this import.\u001b[39;00m\n\u001b[1;32m---> 25\u001b[0m \u001b[39mfrom\u001b[39;00m \u001b[39mkeras\u001b[39;00m \u001b[39mimport\u001b[39;00m models\n\u001b[0;32m     27\u001b[0m \u001b[39mfrom\u001b[39;00m \u001b[39mkeras\u001b[39;00m\u001b[39m.\u001b[39;00m\u001b[39mengine\u001b[39;00m\u001b[39m.\u001b[39;00m\u001b[39minput_layer\u001b[39;00m \u001b[39mimport\u001b[39;00m Input\n\u001b[0;32m     28\u001b[0m \u001b[39mfrom\u001b[39;00m \u001b[39mkeras\u001b[39;00m\u001b[39m.\u001b[39;00m\u001b[39mengine\u001b[39;00m\u001b[39m.\u001b[39;00m\u001b[39msequential\u001b[39;00m \u001b[39mimport\u001b[39;00m Sequential\n",
      "File \u001b[1;32mc:\\Users\\VS\\AppData\\Local\\Programs\\Python\\Python38\\lib\\site-packages\\keras\\models.py:19\u001b[0m, in \u001b[0;36m<module>\u001b[1;34m\u001b[0m\n\u001b[0;32m     16\u001b[0m \u001b[39m\"\"\"Code for model cloning, plus model-related API entries.\"\"\"\u001b[39;00m\n\u001b[0;32m     18\u001b[0m \u001b[39mimport\u001b[39;00m \u001b[39mtensorflow\u001b[39;00m\u001b[39m.\u001b[39;00m\u001b[39mcompat\u001b[39;00m\u001b[39m.\u001b[39;00m\u001b[39mv2\u001b[39;00m \u001b[39mas\u001b[39;00m \u001b[39mtf\u001b[39;00m\n\u001b[1;32m---> 19\u001b[0m \u001b[39mfrom\u001b[39;00m \u001b[39mkeras\u001b[39;00m \u001b[39mimport\u001b[39;00m backend\n\u001b[0;32m     20\u001b[0m \u001b[39mfrom\u001b[39;00m \u001b[39mkeras\u001b[39;00m \u001b[39mimport\u001b[39;00m metrics \u001b[39mas\u001b[39;00m metrics_module\n\u001b[0;32m     21\u001b[0m \u001b[39mfrom\u001b[39;00m \u001b[39mkeras\u001b[39;00m \u001b[39mimport\u001b[39;00m optimizer_v1\n",
      "File \u001b[1;32mc:\\Users\\VS\\AppData\\Local\\Programs\\Python\\Python38\\lib\\site-packages\\keras\\backend.py:285\u001b[0m, in \u001b[0;36m<module>\u001b[1;34m\u001b[0m\n\u001b[0;32m    281\u001b[0m     context\u001b[39m.\u001b[39mcontext()\u001b[39m.\u001b[39mclear_kernel_cache()\n\u001b[0;32m    283\u001b[0m \u001b[39m# Inject the clear_session function to keras_deps to remove the dependency\u001b[39;00m\n\u001b[0;32m    284\u001b[0m \u001b[39m# from TFLite to Keras.\u001b[39;00m\n\u001b[1;32m--> 285\u001b[0m tf\u001b[39m.\u001b[39;49m__internal__\u001b[39m.\u001b[39;49mregister_clear_session_function(clear_session)\n\u001b[0;32m    288\u001b[0m \u001b[39m@keras_export\u001b[39m(\u001b[39m'\u001b[39m\u001b[39mkeras.backend.manual_variable_initialization\u001b[39m\u001b[39m'\u001b[39m)\n\u001b[0;32m    289\u001b[0m \u001b[39m@doc_controls\u001b[39m\u001b[39m.\u001b[39mdo_not_generate_docs\n\u001b[0;32m    290\u001b[0m \u001b[39mdef\u001b[39;00m \u001b[39mmanual_variable_initialization\u001b[39m(value):\n\u001b[0;32m    291\u001b[0m   \u001b[39m\"\"\"Sets the manual variable initialization flag.\u001b[39;00m\n\u001b[0;32m    292\u001b[0m \n\u001b[0;32m    293\u001b[0m \u001b[39m  This boolean flag determines whether\u001b[39;00m\n\u001b[1;32m   (...)\u001b[0m\n\u001b[0;32m    300\u001b[0m \u001b[39m      value: Python boolean.\u001b[39;00m\n\u001b[0;32m    301\u001b[0m \u001b[39m  \"\"\"\u001b[39;00m\n",
      "\u001b[1;31mAttributeError\u001b[0m: module 'tensorflow.compat.v2.__internal__' has no attribute 'register_clear_session_function'"
     ]
    }
   ],
   "source": [
    "import keras\n",
    "print(keras.version)"
   ]
  },
  {
   "cell_type": "code",
   "execution_count": 2,
   "metadata": {},
   "outputs": [
    {
     "ename": "AttributeError",
     "evalue": "module 'tensorflow.compat.v2.__internal__' has no attribute 'register_clear_session_function'",
     "output_type": "error",
     "traceback": [
      "\u001b[1;31m---------------------------------------------------------------------------\u001b[0m",
      "\u001b[1;31mAttributeError\u001b[0m                            Traceback (most recent call last)",
      "\u001b[1;32mc:\\Users\\VS\\Desktop\\musicVS\\Music_Generate.ipynb Cell 2'\u001b[0m in \u001b[0;36m<cell line: 1>\u001b[1;34m()\u001b[0m\n\u001b[1;32m----> <a href='vscode-notebook-cell:/c%3A/Users/VS/Desktop/musicVS/Music_Generate.ipynb#ch0000001?line=0'>1</a>\u001b[0m \u001b[39mfrom\u001b[39;00m \u001b[39mkeras\u001b[39;00m\u001b[39m.\u001b[39;00m\u001b[39mmodels\u001b[39;00m \u001b[39mimport\u001b[39;00m load_model\n\u001b[0;32m      <a href='vscode-notebook-cell:/c%3A/Users/VS/Desktop/musicVS/Music_Generate.ipynb#ch0000001?line=1'>2</a>\u001b[0m \u001b[39m# load the model\u001b[39;00m\n\u001b[0;32m      <a href='vscode-notebook-cell:/c%3A/Users/VS/Desktop/musicVS/Music_Generate.ipynb#ch0000001?line=2'>3</a>\u001b[0m \u001b[39m#here is name of model $$$$$$\u001b[39;00m\n\u001b[0;32m      <a href='vscode-notebook-cell:/c%3A/Users/VS/Desktop/musicVS/Music_Generate.ipynb#ch0000001?line=3'>4</a>\u001b[0m model \u001b[39m=\u001b[39m load_model(\u001b[39m'\u001b[39m\u001b[39mC:/Users/VS/Desktop/musicVS/outputs/weights/weights.h5\u001b[39m\u001b[39m'\u001b[39m)\n",
      "File \u001b[1;32mc:\\Users\\VS\\AppData\\Local\\Programs\\Python\\Python38\\lib\\site-packages\\keras\\__init__.py:25\u001b[0m, in \u001b[0;36m<module>\u001b[1;34m\u001b[0m\n\u001b[0;32m     22\u001b[0m \u001b[39mfrom\u001b[39;00m \u001b[39mkeras\u001b[39;00m \u001b[39mimport\u001b[39;00m distribute\n\u001b[0;32m     24\u001b[0m \u001b[39m# See b/110718070#comment18 for more details about this import.\u001b[39;00m\n\u001b[1;32m---> 25\u001b[0m \u001b[39mfrom\u001b[39;00m \u001b[39mkeras\u001b[39;00m \u001b[39mimport\u001b[39;00m models\n\u001b[0;32m     27\u001b[0m \u001b[39mfrom\u001b[39;00m \u001b[39mkeras\u001b[39;00m\u001b[39m.\u001b[39;00m\u001b[39mengine\u001b[39;00m\u001b[39m.\u001b[39;00m\u001b[39minput_layer\u001b[39;00m \u001b[39mimport\u001b[39;00m Input\n\u001b[0;32m     28\u001b[0m \u001b[39mfrom\u001b[39;00m \u001b[39mkeras\u001b[39;00m\u001b[39m.\u001b[39;00m\u001b[39mengine\u001b[39;00m\u001b[39m.\u001b[39;00m\u001b[39msequential\u001b[39;00m \u001b[39mimport\u001b[39;00m Sequential\n",
      "File \u001b[1;32mc:\\Users\\VS\\AppData\\Local\\Programs\\Python\\Python38\\lib\\site-packages\\keras\\models.py:19\u001b[0m, in \u001b[0;36m<module>\u001b[1;34m\u001b[0m\n\u001b[0;32m     16\u001b[0m \u001b[39m\"\"\"Code for model cloning, plus model-related API entries.\"\"\"\u001b[39;00m\n\u001b[0;32m     18\u001b[0m \u001b[39mimport\u001b[39;00m \u001b[39mtensorflow\u001b[39;00m\u001b[39m.\u001b[39;00m\u001b[39mcompat\u001b[39;00m\u001b[39m.\u001b[39;00m\u001b[39mv2\u001b[39;00m \u001b[39mas\u001b[39;00m \u001b[39mtf\u001b[39;00m\n\u001b[1;32m---> 19\u001b[0m \u001b[39mfrom\u001b[39;00m \u001b[39mkeras\u001b[39;00m \u001b[39mimport\u001b[39;00m backend\n\u001b[0;32m     20\u001b[0m \u001b[39mfrom\u001b[39;00m \u001b[39mkeras\u001b[39;00m \u001b[39mimport\u001b[39;00m metrics \u001b[39mas\u001b[39;00m metrics_module\n\u001b[0;32m     21\u001b[0m \u001b[39mfrom\u001b[39;00m \u001b[39mkeras\u001b[39;00m \u001b[39mimport\u001b[39;00m optimizer_v1\n",
      "File \u001b[1;32mc:\\Users\\VS\\AppData\\Local\\Programs\\Python\\Python38\\lib\\site-packages\\keras\\backend.py:285\u001b[0m, in \u001b[0;36m<module>\u001b[1;34m\u001b[0m\n\u001b[0;32m    281\u001b[0m     context\u001b[39m.\u001b[39mcontext()\u001b[39m.\u001b[39mclear_kernel_cache()\n\u001b[0;32m    283\u001b[0m \u001b[39m# Inject the clear_session function to keras_deps to remove the dependency\u001b[39;00m\n\u001b[0;32m    284\u001b[0m \u001b[39m# from TFLite to Keras.\u001b[39;00m\n\u001b[1;32m--> 285\u001b[0m tf\u001b[39m.\u001b[39;49m__internal__\u001b[39m.\u001b[39;49mregister_clear_session_function(clear_session)\n\u001b[0;32m    288\u001b[0m \u001b[39m@keras_export\u001b[39m(\u001b[39m'\u001b[39m\u001b[39mkeras.backend.manual_variable_initialization\u001b[39m\u001b[39m'\u001b[39m)\n\u001b[0;32m    289\u001b[0m \u001b[39m@doc_controls\u001b[39m\u001b[39m.\u001b[39mdo_not_generate_docs\n\u001b[0;32m    290\u001b[0m \u001b[39mdef\u001b[39;00m \u001b[39mmanual_variable_initialization\u001b[39m(value):\n\u001b[0;32m    291\u001b[0m   \u001b[39m\"\"\"Sets the manual variable initialization flag.\u001b[39;00m\n\u001b[0;32m    292\u001b[0m \n\u001b[0;32m    293\u001b[0m \u001b[39m  This boolean flag determines whether\u001b[39;00m\n\u001b[1;32m   (...)\u001b[0m\n\u001b[0;32m    300\u001b[0m \u001b[39m      value: Python boolean.\u001b[39;00m\n\u001b[0;32m    301\u001b[0m \u001b[39m  \"\"\"\u001b[39;00m\n",
      "\u001b[1;31mAttributeError\u001b[0m: module 'tensorflow.compat.v2.__internal__' has no attribute 'register_clear_session_function'"
     ]
    }
   ],
   "source": [
    "from keras.models import load_model\n",
    "# load the model\n",
    "#here is name of model $$$$$$\n",
    "model = load_model('C:/Users/VS/Desktop/musicVS/outputs/weights/weights.h5')"
   ]
  }
 ],
 "metadata": {
  "interpreter": {
   "hash": "f26061e98617992b91e2850ad1de7cda9ef5cc14b9eb07a8219022bfb4c6fb13"
  },
  "kernelspec": {
   "display_name": "Python 3.8.3 64-bit",
   "language": "python",
   "name": "python3"
  },
  "language_info": {
   "codemirror_mode": {
    "name": "ipython",
    "version": 3
   },
   "file_extension": ".py",
   "mimetype": "text/x-python",
   "name": "python",
   "nbconvert_exporter": "python",
   "pygments_lexer": "ipython3",
   "version": "3.8.3"
  },
  "orig_nbformat": 4
 },
 "nbformat": 4,
 "nbformat_minor": 2
}
